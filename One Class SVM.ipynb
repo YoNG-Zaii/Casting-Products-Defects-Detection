{
 "cells": [
  {
   "cell_type": "markdown",
   "id": "ee11ad56",
   "metadata": {},
   "source": [
    "# Casting Defects with One Class SVM"
   ]
  },
  {
   "cell_type": "markdown",
   "id": "282d9933",
   "metadata": {},
   "source": [
    "We will apply two different methods on this model - outlier detection and novelty detection."
   ]
  },
  {
   "cell_type": "code",
   "execution_count": 1,
   "id": "229cb883",
   "metadata": {},
   "outputs": [],
   "source": [
    "import os\n",
    "import numpy as np\n",
    "import matplotlib.pyplot as plt\n",
    "import cv2\n",
    "from sklearn.model_selection import train_test_split\n",
    "from sklearn.metrics import classification_report, accuracy_score\n",
    "from sklearn.svm import OneClassSVM"
   ]
  },
  {
   "cell_type": "markdown",
   "id": "995105e0",
   "metadata": {},
   "source": [
    "### Feature Engineering"
   ]
  },
  {
   "cell_type": "code",
   "execution_count": 2,
   "id": "b408d3a5",
   "metadata": {},
   "outputs": [],
   "source": [
    "def quantify_image(img):\n",
    "    # compute a greyscale histogram over an image and normalize it\n",
    "    hist = cv2.calcHist([img],[0],None,[256],[0,256])\n",
    "    hist = cv2.normalize(hist, hist).flatten()\n",
    "    return hist"
   ]
  },
  {
   "cell_type": "code",
   "execution_count": 3,
   "id": "d94bac06",
   "metadata": {},
   "outputs": [],
   "source": [
    "def transform_data_from_path(imagePath):\n",
    "    # convert all images in the imagePath\n",
    "    # to greyscale histogram values (normalised)\n",
    "    data = []\n",
    "\n",
    "    # loop over the imagePath directory\n",
    "    for imageName in os.listdir(imagePath):\n",
    "        # load the image\n",
    "        image = cv2.imread(imagePath + '\\\\' + imageName)\n",
    "        # quantify the image and update the data list\n",
    "        features = quantify_image(image)\n",
    "        data.append(features)\n",
    "    return np.array(data)"
   ]
  },
  {
   "cell_type": "code",
   "execution_count": 4,
   "id": "a9c4c294",
   "metadata": {},
   "outputs": [],
   "source": [
    "# The paths to the images\n",
    "defect_path = os.path.join('casting_512x512', 'def_front')\n",
    "normal_path = os.path.join('casting_512x512', 'ok_front')"
   ]
  },
  {
   "cell_type": "code",
   "execution_count": 5,
   "id": "aba0a4db",
   "metadata": {},
   "outputs": [
    {
     "name": "stdout",
     "output_type": "stream",
     "text": [
      "Defect: 781\n",
      "Normal: 519\n"
     ]
    }
   ],
   "source": [
    "defect = transform_data_from_path(defect_path)\n",
    "normal = transform_data_from_path(normal_path)\n",
    "\n",
    "print('Defect:', len(defect))\n",
    "print('Normal:', len(normal))"
   ]
  },
  {
   "cell_type": "code",
   "execution_count": 6,
   "id": "fc4dcca5",
   "metadata": {},
   "outputs": [
    {
     "name": "stdout",
     "output_type": "stream",
     "text": [
      "Normal\n",
      "Train: 415\n",
      "Test: 104\n",
      "\n",
      "Defective\n",
      "Train: 663\n",
      "Test: 118\n"
     ]
    }
   ],
   "source": [
    "normal_train, normal_test = train_test_split(normal, test_size=0.2, random_state=42)\n",
    "defect_train, defect_test = train_test_split(defect, test_size=0.15, random_state=42)\n",
    "\n",
    "print('Normal')\n",
    "print('Train:', len(normal_train))\n",
    "print('Test:', len(normal_test))\n",
    "\n",
    "print()\n",
    "print('Defective')\n",
    "print('Train:', len(defect_train))\n",
    "print('Test:', len(defect_test))"
   ]
  },
  {
   "cell_type": "markdown",
   "id": "89138540",
   "metadata": {},
   "source": [
    "## Outlier Detection"
   ]
  },
  {
   "cell_type": "markdown",
   "id": "678621f8",
   "metadata": {},
   "source": [
    "For outlier detection, we will train the model with both normal and casting images."
   ]
  },
  {
   "cell_type": "code",
   "execution_count": 7,
   "id": "1cbf5cdb",
   "metadata": {},
   "outputs": [
    {
     "name": "stdout",
     "output_type": "stream",
     "text": [
      "222\n"
     ]
    }
   ],
   "source": [
    "train = np.concatenate((normal_train, defect_train), axis=0)\n",
    "test = np.concatenate((normal_test, defect_test), axis=0)\n",
    "\n",
    "# 1 means normal casting while -1 means defective casting\n",
    "test_labels = np.ones(len(test), dtype=int)\n",
    "test_labels[-len(defect_test):] = -1\n",
    "\n",
    "print(len(test))"
   ]
  },
  {
   "cell_type": "markdown",
   "id": "62d3b9fa",
   "metadata": {},
   "source": [
    "### Model Training"
   ]
  },
  {
   "cell_type": "code",
   "execution_count": 8,
   "id": "8753a7bf",
   "metadata": {},
   "outputs": [],
   "source": [
    "model = OneClassSVM(kernel='rbf', gamma='scale', nu=0.5, max_iter=-1)"
   ]
  },
  {
   "cell_type": "code",
   "execution_count": 9,
   "id": "d5c5df38",
   "metadata": {},
   "outputs": [
    {
     "name": "stdout",
     "output_type": "stream",
     "text": [
      "              precision    recall  f1-score   support\n",
      "\n",
      "   Defective       0.49      0.51      0.50       118\n",
      "      Normal       0.42      0.40      0.41       104\n",
      "\n",
      "    accuracy                           0.46       222\n",
      "   macro avg       0.46      0.46      0.46       222\n",
      "weighted avg       0.46      0.46      0.46       222\n",
      "\n"
     ]
    }
   ],
   "source": [
    "model.fit(train)\n",
    "preds = model.predict(test)\n",
    "print(classification_report(test_labels, preds, target_names=['Defective', 'Normal']))"
   ]
  },
  {
   "cell_type": "markdown",
   "id": "8dc3453d",
   "metadata": {},
   "source": [
    "The accuracy for outlier detection is very low. Let's try to tune the hyperparameters."
   ]
  },
  {
   "cell_type": "markdown",
   "id": "dfc23c83",
   "metadata": {},
   "source": [
    "### Hyperparameter Tuning"
   ]
  },
  {
   "cell_type": "markdown",
   "id": "908277ac",
   "metadata": {},
   "source": [
    "We will loop through nu values of 0.1, 0.2, ..., 1.0 and change the kernel type."
   ]
  },
  {
   "cell_type": "code",
   "execution_count": 12,
   "id": "cfdf1963",
   "metadata": {},
   "outputs": [
    {
     "name": "stdout",
     "output_type": "stream",
     "text": [
      "nu:  0.1, accuracy: 0.4594594594594595\n",
      "nu:  0.2, accuracy: 0.5135135135135135\n",
      "nu:  0.3, accuracy: 0.5405405405405406\n",
      "nu:  0.4, accuracy: 0.6036036036036037\n",
      "nu:  0.5, accuracy: 0.6306306306306306\n",
      "nu:  0.6, accuracy: 0.6171171171171171\n",
      "nu:  0.7, accuracy: 0.581081081081081\n",
      "nu:  0.8, accuracy: 0.5585585585585585\n",
      "nu:  0.9, accuracy: 0.545045045045045\n"
     ]
    }
   ],
   "source": [
    "optimal_nu = 0\n",
    "max_accuracy = -1\n",
    "for nu_value in np.arange(0.1, 1, 0.1):\n",
    "    model = OneClassSVM(kernel='sigmoid', gamma='scale', nu=np.round_(nu_value, decimals=1), max_iter=-1)\n",
    "    model.fit(train)\n",
    "    preds = model.predict(test)\n",
    "    accuracy = accuracy_score(test_labels, preds)\n",
    "    if(accuracy > max_accuracy):\n",
    "        max_accuracy = accuracy\n",
    "        optimal_nu = nu_value\n",
    "    print(f'nu: {nu_value: .1f}, accuracy: {accuracy}')"
   ]
  },
  {
   "cell_type": "markdown",
   "id": "e651ff90",
   "metadata": {},
   "source": [
    "After changing kernel type to sigmoid, the best outlier detection model occurs at nu = 0.5, which is 0.63."
   ]
  },
  {
   "cell_type": "code",
   "execution_count": 13,
   "id": "71dc088f",
   "metadata": {},
   "outputs": [
    {
     "name": "stdout",
     "output_type": "stream",
     "text": [
      "              precision    recall  f1-score   support\n",
      "\n",
      "   Defective       0.66      0.62      0.64       118\n",
      "      Normal       0.60      0.64      0.62       104\n",
      "\n",
      "    accuracy                           0.63       222\n",
      "   macro avg       0.63      0.63      0.63       222\n",
      "weighted avg       0.63      0.63      0.63       222\n",
      "\n"
     ]
    }
   ],
   "source": [
    "model = OneClassSVM(kernel='sigmoid', gamma='scale', nu=np.round_(optimal_nu, decimals=1), max_iter=-1)\n",
    "model.fit(train)\n",
    "preds = model.predict(test)\n",
    "print(classification_report(test_labels, preds, target_names=['Defective', 'Normal']))"
   ]
  },
  {
   "cell_type": "markdown",
   "id": "54e65b41",
   "metadata": {},
   "source": [
    "The recall for both defective and normal casting are 0.62 and 0.64 respectively. Next, we will apply novelty detection to see whether there is an increase in accuracy and recall."
   ]
  },
  {
   "cell_type": "markdown",
   "id": "38012139",
   "metadata": {},
   "source": [
    "## Novelty Detection"
   ]
  },
  {
   "cell_type": "markdown",
   "id": "8499cf39",
   "metadata": {},
   "source": [
    "For novelty detection, we only need to train the model with normal casting images and the defective casting is considered 'novel'."
   ]
  },
  {
   "cell_type": "code",
   "execution_count": 22,
   "id": "9189f9d0",
   "metadata": {},
   "outputs": [
    {
     "name": "stdout",
     "output_type": "stream",
     "text": [
      "222\n"
     ]
    }
   ],
   "source": [
    "test = np.concatenate((normal_test, defect_test), axis=0)\n",
    "\n",
    "# 1 means normal casting while -1 means defective casting\n",
    "test_labels = np.ones(len(test), dtype=int)\n",
    "test_labels[-len(defect_test):] = -1\n",
    "\n",
    "print(len(test))"
   ]
  },
  {
   "cell_type": "markdown",
   "id": "6333d329",
   "metadata": {},
   "source": [
    "### Model Training"
   ]
  },
  {
   "cell_type": "code",
   "execution_count": 23,
   "id": "9ba7b4a3",
   "metadata": {},
   "outputs": [],
   "source": [
    "model = OneClassSVM(kernel='rbf', gamma='scale', nu=0.5, max_iter=-1)"
   ]
  },
  {
   "cell_type": "code",
   "execution_count": 24,
   "id": "2145e158",
   "metadata": {},
   "outputs": [
    {
     "name": "stdout",
     "output_type": "stream",
     "text": [
      "              precision    recall  f1-score   support\n",
      "\n",
      "   Defective       0.69      0.92      0.79       118\n",
      "      Normal       0.86      0.52      0.65       104\n",
      "\n",
      "    accuracy                           0.73       222\n",
      "   macro avg       0.77      0.72      0.72       222\n",
      "weighted avg       0.77      0.73      0.72       222\n",
      "\n"
     ]
    }
   ],
   "source": [
    "model.fit(normal_train)\n",
    "preds = model.predict(test)\n",
    "print(classification_report(test_labels, preds, target_names=['Defective', 'Normal']))"
   ]
  },
  {
   "cell_type": "markdown",
   "id": "6a9cc728",
   "metadata": {},
   "source": [
    "We see that the overall accuracy has increased to 0.73. However, the recall for normal casting is only 0.52, which means nearly half of the normal casting is misclassifed as defective."
   ]
  },
  {
   "cell_type": "markdown",
   "id": "dcfb39c9",
   "metadata": {},
   "source": [
    "### Hyperparameter Tuning"
   ]
  },
  {
   "cell_type": "code",
   "execution_count": 28,
   "id": "08567c9d",
   "metadata": {},
   "outputs": [
    {
     "name": "stdout",
     "output_type": "stream",
     "text": [
      "nu:  0.1, accuracy: 0.8243243243243243\n",
      "nu:  0.2, accuracy: 0.8108108108108109\n",
      "nu:  0.3, accuracy: 0.7702702702702703\n",
      "nu:  0.4, accuracy: 0.7612612612612613\n",
      "nu:  0.5, accuracy: 0.7342342342342343\n",
      "nu:  0.6, accuracy: 0.6711711711711712\n",
      "nu:  0.7, accuracy: 0.5990990990990991\n",
      "nu:  0.8, accuracy: 0.581081081081081\n",
      "nu:  0.9, accuracy: 0.5540540540540541\n"
     ]
    }
   ],
   "source": [
    "optimal_nu = 0\n",
    "max_accuracy = -1\n",
    "for nu_value in np.arange(0.1, 1, 0.1):\n",
    "    model = OneClassSVM(kernel='rbf', gamma='scale', nu=np.round_(nu_value, decimals=1), max_iter=-1)\n",
    "    model.fit(normal_train)\n",
    "    preds = model.predict(test)\n",
    "    accuracy = accuracy_score(test_labels, preds)\n",
    "    if(accuracy > max_accuracy):\n",
    "        max_accuracy = accuracy\n",
    "        optimal_nu = nu_value\n",
    "    print(f'nu: {nu_value: .1f}, accuracy: {accuracy_score(test_labels, preds)}')"
   ]
  },
  {
   "cell_type": "markdown",
   "id": "a583dc8d",
   "metadata": {},
   "source": [
    "The best novelty detection model occurs at nu = 0.1 with accuracy of 0.82."
   ]
  },
  {
   "cell_type": "code",
   "execution_count": 29,
   "id": "db95b021",
   "metadata": {},
   "outputs": [
    {
     "name": "stdout",
     "output_type": "stream",
     "text": [
      "              precision    recall  f1-score   support\n",
      "\n",
      "   Defective       0.92      0.73      0.82       118\n",
      "      Normal       0.75      0.93      0.83       104\n",
      "\n",
      "    accuracy                           0.82       222\n",
      "   macro avg       0.84      0.83      0.82       222\n",
      "weighted avg       0.84      0.82      0.82       222\n",
      "\n"
     ]
    }
   ],
   "source": [
    "model = OneClassSVM(kernel='rbf', gamma='scale', nu=np.round_(optimal_nu, decimals=1), max_iter=-1)\n",
    "model.fit(normal_train)\n",
    "preds = model.predict(test)\n",
    "print(classification_report(test_labels, preds, target_names=['Defective', 'Normal']))"
   ]
  },
  {
   "cell_type": "markdown",
   "id": "1e9f844b",
   "metadata": {},
   "source": [
    "The novelty detection method performs better on the images, reaching 0.82 overall accuracy. We can also see that the recalls for both defective and normal casting have increased to 0.73 and 0.93 respectively."
   ]
  },
  {
   "cell_type": "code",
   "execution_count": null,
   "id": "dac4c128",
   "metadata": {},
   "outputs": [],
   "source": []
  }
 ],
 "metadata": {
  "kernelspec": {
   "display_name": "Python 3 (ipykernel)",
   "language": "python",
   "name": "python3"
  },
  "language_info": {
   "codemirror_mode": {
    "name": "ipython",
    "version": 3
   },
   "file_extension": ".py",
   "mimetype": "text/x-python",
   "name": "python",
   "nbconvert_exporter": "python",
   "pygments_lexer": "ipython3",
   "version": "3.9.13"
  }
 },
 "nbformat": 4,
 "nbformat_minor": 5
}
