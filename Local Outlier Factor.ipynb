{
 "cells": [
  {
   "cell_type": "markdown",
   "id": "1addb55f",
   "metadata": {},
   "source": [
    "# Casting Defects with Local Outlier Factor (LOF)"
   ]
  },
  {
   "cell_type": "markdown",
   "id": "39a27bc8",
   "metadata": {},
   "source": [
    "Usually, LOF is only meant to be used for outlier detection. The latest version of LOF supports novelty detection. Hence,\n",
    "We will apply two different methods on this model - outlier detection and novelty detection."
   ]
  },
  {
   "cell_type": "code",
   "execution_count": 1,
   "id": "8e0d9423",
   "metadata": {},
   "outputs": [],
   "source": [
    "import os\n",
    "import numpy as np\n",
    "import matplotlib.pyplot as plt\n",
    "import cv2\n",
    "from sklearn.model_selection import train_test_split\n",
    "from sklearn.metrics import classification_report, accuracy_score\n",
    "from sklearn.neighbors import LocalOutlierFactor"
   ]
  },
  {
   "cell_type": "markdown",
   "id": "8416e8cd",
   "metadata": {},
   "source": [
    "### Feature Engineering"
   ]
  },
  {
   "cell_type": "code",
   "execution_count": 2,
   "id": "26ec7e70",
   "metadata": {},
   "outputs": [],
   "source": [
    "def quantify_image(img):\n",
    "    # compute a greyscale histogram over an image and normalize it\n",
    "    hist = cv2.calcHist([img],[0],None,[256],[0,256])\n",
    "    hist = cv2.normalize(hist, hist).flatten()\n",
    "    return hist"
   ]
  },
  {
   "cell_type": "code",
   "execution_count": 3,
   "id": "112f4b0f",
   "metadata": {},
   "outputs": [],
   "source": [
    "def transform_data_from_path(imagePath):\n",
    "    # convert all images in the imagePath\n",
    "    # to greyscale histogram values (normalised)\n",
    "    data = []\n",
    "\n",
    "    # loop over the imagePath directory\n",
    "    for imageName in os.listdir(imagePath):\n",
    "        # load the image\n",
    "        image = cv2.imread(imagePath + '\\\\' + imageName)\n",
    "        # quantify the image and update the data list\n",
    "        features = quantify_image(image)\n",
    "        data.append(features)\n",
    "    return np.array(data)"
   ]
  },
  {
   "cell_type": "code",
   "execution_count": 4,
   "id": "4afe8070",
   "metadata": {},
   "outputs": [],
   "source": [
    "# The paths to the images\n",
    "defect_path = os.path.join('casting_512x512', 'def_front')\n",
    "normal_path = os.path.join('casting_512x512', 'ok_front')"
   ]
  },
  {
   "cell_type": "code",
   "execution_count": 5,
   "id": "0251612e",
   "metadata": {},
   "outputs": [
    {
     "name": "stdout",
     "output_type": "stream",
     "text": [
      "Defect: 781\n",
      "Normal: 519\n"
     ]
    }
   ],
   "source": [
    "defect = transform_data_from_path(defect_path)\n",
    "normal = transform_data_from_path(normal_path)\n",
    "\n",
    "print('Defect:', len(defect))\n",
    "print('Normal:', len(normal))"
   ]
  },
  {
   "cell_type": "markdown",
   "id": "59975f3b",
   "metadata": {},
   "source": [
    "In LOF, we need to specify the contamination which should be in the range of (0, 0.5]. Hence, we will drop some defective images such that the number of defective casting is less than or equal to that of normal casting."
   ]
  },
  {
   "cell_type": "code",
   "execution_count": 6,
   "id": "82245c47",
   "metadata": {},
   "outputs": [
    {
     "name": "stdout",
     "output_type": "stream",
     "text": [
      "Defect: 519\n"
     ]
    }
   ],
   "source": [
    "defect = defect[:519]\n",
    "print('Defect:', len(defect))"
   ]
  },
  {
   "cell_type": "code",
   "execution_count": 7,
   "id": "89e9ee81",
   "metadata": {},
   "outputs": [
    {
     "name": "stdout",
     "output_type": "stream",
     "text": [
      "Normal\n",
      "Train: 415\n",
      "Test: 104\n",
      "\n",
      "Defective\n",
      "Train: 415\n",
      "Test: 104\n"
     ]
    }
   ],
   "source": [
    "normal_train, normal_test = train_test_split(normal, test_size=0.2, random_state=42)\n",
    "defect_train, defect_test = train_test_split(defect, test_size=0.2, random_state=42)\n",
    "\n",
    "print('Normal')\n",
    "print('Train:', len(normal_train))\n",
    "print('Test:', len(normal_test))\n",
    "\n",
    "print()\n",
    "print('Defective')\n",
    "print('Train:', len(defect_train))\n",
    "print('Test:', len(defect_test))"
   ]
  },
  {
   "cell_type": "markdown",
   "id": "c457130a",
   "metadata": {},
   "source": [
    "## Outlier Detection"
   ]
  },
  {
   "cell_type": "markdown",
   "id": "fed135f8",
   "metadata": {},
   "source": [
    "For outlier detection, we will train the model with both normal and casting images."
   ]
  },
  {
   "cell_type": "code",
   "execution_count": 8,
   "id": "dee1d312",
   "metadata": {},
   "outputs": [],
   "source": [
    "train = np.concatenate((normal, defect), axis=0)\n",
    "\n",
    "# 1 means normal casting while -1 means defective casting\n",
    "true_labels = np.ones(len(train), dtype=int)\n",
    "true_labels[-len(defect):] = -1"
   ]
  },
  {
   "cell_type": "markdown",
   "id": "e9452e98",
   "metadata": {},
   "source": [
    "### Model Training"
   ]
  },
  {
   "cell_type": "code",
   "execution_count": 9,
   "id": "f6c23ee4",
   "metadata": {},
   "outputs": [],
   "source": [
    "model = LocalOutlierFactor(n_neighbors=20, \n",
    "                           contamination=len(defect)/len(train), \n",
    "                           n_jobs=-1)"
   ]
  },
  {
   "cell_type": "code",
   "execution_count": 10,
   "id": "7a536e8e",
   "metadata": {},
   "outputs": [
    {
     "name": "stdout",
     "output_type": "stream",
     "text": [
      "              precision    recall  f1-score   support\n",
      "\n",
      "   Defective       0.67      0.67      0.67       519\n",
      "      Normal       0.67      0.67      0.67       519\n",
      "\n",
      "    accuracy                           0.67      1038\n",
      "   macro avg       0.67      0.67      0.67      1038\n",
      "weighted avg       0.67      0.67      0.67      1038\n",
      "\n"
     ]
    }
   ],
   "source": [
    "preds = model.fit_predict(train)\n",
    "print(classification_report(true_labels, preds, target_names=['Defective', 'Normal']))"
   ]
  },
  {
   "cell_type": "markdown",
   "id": "1c7d7883",
   "metadata": {},
   "source": [
    "The accuracy for outlier detection is only 0.67. Let's try to tune the hyperparameters."
   ]
  },
  {
   "cell_type": "markdown",
   "id": "5d017dc3",
   "metadata": {},
   "source": [
    "### Hyperparameter Tuning"
   ]
  },
  {
   "cell_type": "code",
   "execution_count": 11,
   "id": "8ffeebdd",
   "metadata": {},
   "outputs": [
    {
     "name": "stdout",
     "output_type": "stream",
     "text": [
      "n_neighbors: 21, accuracy: 0.6647398843930635\n",
      "n_neighbors: 22, accuracy: 0.6724470134874759\n",
      "n_neighbors: 23, accuracy: 0.6782273603082851\n",
      "n_neighbors: 24, accuracy: 0.6955684007707129\n",
      "n_neighbors: 25, accuracy: 0.7052023121387283\n",
      "n_neighbors: 26, accuracy: 0.697495183044316\n",
      "n_neighbors: 27, accuracy: 0.6917148362235067\n",
      "n_neighbors: 28, accuracy: 0.6763005780346821\n",
      "n_neighbors: 29, accuracy: 0.653179190751445\n",
      "n_neighbors: 30, accuracy: 0.630057803468208\n",
      "n_neighbors: 31, accuracy: 0.6204238921001927\n",
      "n_neighbors: 32, accuracy: 0.605009633911368\n",
      "n_neighbors: 33, accuracy: 0.5934489402697495\n",
      "n_neighbors: 34, accuracy: 0.5780346820809249\n",
      "n_neighbors: 35, accuracy: 0.5741811175337187\n"
     ]
    }
   ],
   "source": [
    "contamination_value = len(defect)/len(train)\n",
    "for i in range(21, 36):\n",
    "    model = LocalOutlierFactor(n_neighbors=i, \n",
    "                               contamination=contamination_value, \n",
    "                               n_jobs=-1)\n",
    "    preds = model.fit_predict(train)\n",
    "    print(f'n_neighbors: {i}, accuracy: {accuracy_score(true_labels, preds)}')"
   ]
  },
  {
   "cell_type": "markdown",
   "id": "6a3bc389",
   "metadata": {},
   "source": [
    "The best outlier detection model occurs at n_neighbors = 25 with accuracy of 0.71. "
   ]
  },
  {
   "cell_type": "code",
   "execution_count": 12,
   "id": "88ce0b7f",
   "metadata": {},
   "outputs": [
    {
     "name": "stdout",
     "output_type": "stream",
     "text": [
      "              precision    recall  f1-score   support\n",
      "\n",
      "   Defective       0.71      0.71      0.71       519\n",
      "      Normal       0.71      0.71      0.71       519\n",
      "\n",
      "    accuracy                           0.71      1038\n",
      "   macro avg       0.71      0.71      0.71      1038\n",
      "weighted avg       0.71      0.71      0.71      1038\n",
      "\n"
     ]
    }
   ],
   "source": [
    "model = LocalOutlierFactor(n_neighbors=25, \n",
    "                           contamination=len(defect)/len(train), \n",
    "                           n_jobs=-1)\n",
    "preds = model.fit_predict(train)\n",
    "print(classification_report(true_labels, preds, target_names=['Defective', 'Normal']))"
   ]
  },
  {
   "cell_type": "markdown",
   "id": "13abce1b",
   "metadata": {},
   "source": [
    "Next, we will apply novelty detection to see whether there is an increase in accuracy and recall."
   ]
  },
  {
   "cell_type": "markdown",
   "id": "4de2b44e",
   "metadata": {},
   "source": [
    "## Novelty Detection"
   ]
  },
  {
   "cell_type": "markdown",
   "id": "591b81f8",
   "metadata": {},
   "source": [
    "For novelty detection, we only need to train the model with normal casting images and the defective casting is considered 'novel'."
   ]
  },
  {
   "cell_type": "code",
   "execution_count": 13,
   "id": "b3dd89dc",
   "metadata": {},
   "outputs": [
    {
     "name": "stdout",
     "output_type": "stream",
     "text": [
      "208\n"
     ]
    }
   ],
   "source": [
    "train = np.concatenate((normal_train, defect_train), axis=0)\n",
    "test = np.concatenate((normal_test, defect_test), axis=0)\n",
    "\n",
    "# 1 means normal casting while -1 means defective casting\n",
    "test_labels = np.ones(len(test), dtype=int)\n",
    "test_labels[-len(defect_test):] = -1\n",
    "\n",
    "print(len(test))"
   ]
  },
  {
   "cell_type": "markdown",
   "id": "9c897b71",
   "metadata": {},
   "source": [
    "### Model Training"
   ]
  },
  {
   "cell_type": "code",
   "execution_count": 14,
   "id": "97b209c1",
   "metadata": {},
   "outputs": [],
   "source": [
    "model = LocalOutlierFactor(n_neighbors=20, \n",
    "                           contamination=len(defect_train)/len(train),\n",
    "                           novelty=True,\n",
    "                           n_jobs=-1)"
   ]
  },
  {
   "cell_type": "code",
   "execution_count": 15,
   "id": "7e408566",
   "metadata": {},
   "outputs": [
    {
     "name": "stdout",
     "output_type": "stream",
     "text": [
      "              precision    recall  f1-score   support\n",
      "\n",
      "   Defective       0.69      0.74      0.71       104\n",
      "      Normal       0.72      0.66      0.69       104\n",
      "\n",
      "    accuracy                           0.70       208\n",
      "   macro avg       0.70      0.70      0.70       208\n",
      "weighted avg       0.70      0.70      0.70       208\n",
      "\n"
     ]
    }
   ],
   "source": [
    "model.fit(train)\n",
    "preds = model.predict(test)\n",
    "print(classification_report(test_labels, preds, target_names=['Defective', 'Normal']))"
   ]
  },
  {
   "cell_type": "markdown",
   "id": "6f81f631",
   "metadata": {},
   "source": [
    "The initial overall accuracy is 0.7. Let's tune the n_neighbors hyperparameter."
   ]
  },
  {
   "cell_type": "markdown",
   "id": "a6c24071",
   "metadata": {},
   "source": [
    "### Hyperparameter Tuning"
   ]
  },
  {
   "cell_type": "code",
   "execution_count": 16,
   "id": "cb5d8332",
   "metadata": {},
   "outputs": [
    {
     "name": "stdout",
     "output_type": "stream",
     "text": [
      "n_neighbors: 21, accuracy: 0.6875\n",
      "n_neighbors: 22, accuracy: 0.6778846153846154\n",
      "n_neighbors: 23, accuracy: 0.7019230769230769\n",
      "n_neighbors: 24, accuracy: 0.6778846153846154\n",
      "n_neighbors: 25, accuracy: 0.6442307692307693\n",
      "n_neighbors: 26, accuracy: 0.6442307692307693\n",
      "n_neighbors: 27, accuracy: 0.6105769230769231\n",
      "n_neighbors: 28, accuracy: 0.5961538461538461\n",
      "n_neighbors: 29, accuracy: 0.5865384615384616\n",
      "n_neighbors: 30, accuracy: 0.5721153846153846\n",
      "n_neighbors: 31, accuracy: 0.5673076923076923\n",
      "n_neighbors: 32, accuracy: 0.5721153846153846\n",
      "n_neighbors: 33, accuracy: 0.5625\n",
      "n_neighbors: 34, accuracy: 0.5576923076923077\n"
     ]
    }
   ],
   "source": [
    "optimal_ngh = 0\n",
    "max_accuracy = -1\n",
    "contamination_value = len(defect_train)/len(train)\n",
    "for n_neighbors in range(21, 35):\n",
    "    model = LocalOutlierFactor(n_neighbors=n_neighbors, \n",
    "                               contamination=contamination_value,\n",
    "                               novelty=True,\n",
    "                               n_jobs=-1)\n",
    "    model.fit(train)\n",
    "    preds = model.predict(test)\n",
    "    accuracy = accuracy_score(test_labels, preds)\n",
    "    if(accuracy > max_accuracy):\n",
    "        max_accuracy = accuracy\n",
    "        optimal_ngh = n_neighbors\n",
    "    print(f'n_neighbors: {n_neighbors}, accuracy: {accuracy}')"
   ]
  },
  {
   "cell_type": "code",
   "execution_count": 17,
   "id": "0e762800",
   "metadata": {},
   "outputs": [
    {
     "name": "stdout",
     "output_type": "stream",
     "text": [
      "              precision    recall  f1-score   support\n",
      "\n",
      "   Defective       0.70      0.71      0.70       104\n",
      "      Normal       0.71      0.69      0.70       104\n",
      "\n",
      "    accuracy                           0.70       208\n",
      "   macro avg       0.70      0.70      0.70       208\n",
      "weighted avg       0.70      0.70      0.70       208\n",
      "\n"
     ]
    }
   ],
   "source": [
    "model = LocalOutlierFactor(n_neighbors=optimal_ngh, \n",
    "                           contamination=len(defect_train)/len(train),\n",
    "                           novelty=True,\n",
    "                           n_jobs=-1)\n",
    "model.fit(train)\n",
    "preds = model.predict(test)\n",
    "print(classification_report(test_labels, preds, target_names=['Defective', 'Normal']))"
   ]
  },
  {
   "cell_type": "markdown",
   "id": "a1b5ed33",
   "metadata": {},
   "source": [
    "We see that both outlier and novelty detection methods have similar performances."
   ]
  },
  {
   "cell_type": "code",
   "execution_count": null,
   "id": "e93773c4",
   "metadata": {},
   "outputs": [],
   "source": []
  }
 ],
 "metadata": {
  "kernelspec": {
   "display_name": "Python 3 (ipykernel)",
   "language": "python",
   "name": "python3"
  },
  "language_info": {
   "codemirror_mode": {
    "name": "ipython",
    "version": 3
   },
   "file_extension": ".py",
   "mimetype": "text/x-python",
   "name": "python",
   "nbconvert_exporter": "python",
   "pygments_lexer": "ipython3",
   "version": "3.9.13"
  }
 },
 "nbformat": 4,
 "nbformat_minor": 5
}
